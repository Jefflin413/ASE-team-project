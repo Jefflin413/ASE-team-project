{
 "cells": [
  {
   "cell_type": "markdown",
   "metadata": {},
   "source": [
    "# Constructing live-streaming using AWS\n",
    "### First step: Configure AWS credentials in the computer\n",
    "Find the .aws folder in your local PC (in my case it is at C:\\Users\\Jefflin\\AppData\\Roaming\\SPB_16.6\\.aws) and configure the credentials file with your own aws_access_key_id and aws_secret_access_key  \n",
    "Key id and key can be generated in AWS IAM, click on the \"My access key\" link from the IAM console to access the webpage\n",
    "\n",
    "### Second step: Setting up permissions for Amazon CloudWatch\n",
    "Follow the instruction written in this website to set up a role for this mission: https://docs.aws.amazon.com/mediastore/latest/ug/monitoring-cloudwatch-permissions.html\n",
    "\n",
    "### Third step: Launch the following code\n",
    "By running it, it will return you two things, one is for the streamers, the OBS_url and OBS_stream_key, another one is for the audiences, the m3u8 url which can be used to display the live streaming. The code will generate the results once the whole backend pipeline is completed, do not interrupt while creating. For OBS, see the part 3 in the following website: https://aws.amazon.com/tw/blogs/media/part1-how-to-send-live-video-to-aws-elemental-mediastore/"
   ]
  },
  {
   "cell_type": "code",
   "execution_count": 1,
   "metadata": {},
   "outputs": [
    {
     "data": {
      "text/plain": [
       "{'ResponseMetadata': {'HTTPHeaders': {'content-length': '383',\n",
       "   'content-type': 'text/xml',\n",
       "   'date': 'Tue, 17 Nov 2020 18:40:19 GMT',\n",
       "   'x-amzn-requestid': 'befabaa1-7454-4e71-ba86-bedf2c727f5b'},\n",
       "  'HTTPStatusCode': 200,\n",
       "  'RequestId': 'befabaa1-7454-4e71-ba86-bedf2c727f5b',\n",
       "  'RetryAttempts': 0},\n",
       " 'StackId': 'arn:aws:cloudformation:us-east-1:517430561835:stack/liveStreaming/57e89380-2904-11eb-88fe-12446ecd5e01'}"
      ]
     },
     "execution_count": 1,
     "metadata": {},
     "output_type": "execute_result"
    }
   ],
   "source": [
    "import boto3\n",
    "import time\n",
    "client = boto3.client('cloudformation')\n",
    "StackName = 'liveStreaming' # This one can be the account name of the streamer\n",
    "client.create_stack(\n",
    "    StackName=StackName,\n",
    "    TemplateBody=open('live-streaming-on-aws-with-mediastore.template', 'r').read(),\n",
    "    # If you don't have a template file in the folder then comment the line above and use the line below \n",
    "    #TemplateURL='https://s3.amazonaws.com/solutions-reference/live-streaming-on-aws-with-mediastore/latest/live-streaming-on-aws-with-mediastore.template',\n",
    "    Parameters=[\n",
    "        {\n",
    "            'ParameterKey': 'InputType',\n",
    "            'ParameterValue': 'RTMP_PUSH',\n",
    "        },\n",
    "        {\n",
    "            'ParameterKey': 'InputCIDR',\n",
    "            'ParameterValue': '0.0.0.0/0',\n",
    "        }\n",
    "    ],\n",
    "    TimeoutInMinutes=10,\n",
    "    Capabilities=[\n",
    "        'CAPABILITY_IAM',\n",
    "    ],\n",
    ")"
   ]
  },
  {
   "cell_type": "code",
   "execution_count": 2,
   "metadata": {},
   "outputs": [
    {
     "ename": "AlreadyExistsException",
     "evalue": "An error occurred (AlreadyExistsException) when calling the CreateStack operation: Stack [liveStreaming] already exists",
     "output_type": "error",
     "traceback": [
      "\u001b[1;31m---------------------------------------------------------------------------\u001b[0m",
      "\u001b[1;31mAlreadyExistsException\u001b[0m                    Traceback (most recent call last)",
      "\u001b[1;32m<ipython-input-2-283b3660afb5>\u001b[0m in \u001b[0;36m<module>\u001b[1;34m()\u001b[0m\n\u001b[0;32m     16\u001b[0m     \u001b[0mTimeoutInMinutes\u001b[0m\u001b[1;33m=\u001b[0m\u001b[1;36m10\u001b[0m\u001b[1;33m,\u001b[0m\u001b[1;33m\u001b[0m\u001b[1;33m\u001b[0m\u001b[0m\n\u001b[0;32m     17\u001b[0m     Capabilities=[\n\u001b[1;32m---> 18\u001b[1;33m         \u001b[1;34m'CAPABILITY_IAM'\u001b[0m\u001b[1;33m,\u001b[0m\u001b[1;33m\u001b[0m\u001b[1;33m\u001b[0m\u001b[0m\n\u001b[0m\u001b[0;32m     19\u001b[0m     ],\n\u001b[0;32m     20\u001b[0m )\n",
      "\u001b[1;32mC:\\Users\\Jefflin\\Anaconda3\\lib\\site-packages\\botocore\\client.py\u001b[0m in \u001b[0;36m_api_call\u001b[1;34m(self, *args, **kwargs)\u001b[0m\n\u001b[0;32m    355\u001b[0m                     \"%s() only accepts keyword arguments.\" % py_operation_name)\n\u001b[0;32m    356\u001b[0m             \u001b[1;31m# The \"self\" in this scope is referring to the BaseClient.\u001b[0m\u001b[1;33m\u001b[0m\u001b[1;33m\u001b[0m\u001b[1;33m\u001b[0m\u001b[0m\n\u001b[1;32m--> 357\u001b[1;33m             \u001b[1;32mreturn\u001b[0m \u001b[0mself\u001b[0m\u001b[1;33m.\u001b[0m\u001b[0m_make_api_call\u001b[0m\u001b[1;33m(\u001b[0m\u001b[0moperation_name\u001b[0m\u001b[1;33m,\u001b[0m \u001b[0mkwargs\u001b[0m\u001b[1;33m)\u001b[0m\u001b[1;33m\u001b[0m\u001b[1;33m\u001b[0m\u001b[0m\n\u001b[0m\u001b[0;32m    358\u001b[0m \u001b[1;33m\u001b[0m\u001b[0m\n\u001b[0;32m    359\u001b[0m         \u001b[0m_api_call\u001b[0m\u001b[1;33m.\u001b[0m\u001b[0m__name__\u001b[0m \u001b[1;33m=\u001b[0m \u001b[0mstr\u001b[0m\u001b[1;33m(\u001b[0m\u001b[0mpy_operation_name\u001b[0m\u001b[1;33m)\u001b[0m\u001b[1;33m\u001b[0m\u001b[1;33m\u001b[0m\u001b[0m\n",
      "\u001b[1;32mC:\\Users\\Jefflin\\Anaconda3\\lib\\site-packages\\botocore\\client.py\u001b[0m in \u001b[0;36m_make_api_call\u001b[1;34m(self, operation_name, api_params)\u001b[0m\n\u001b[0;32m    659\u001b[0m             \u001b[0merror_code\u001b[0m \u001b[1;33m=\u001b[0m \u001b[0mparsed_response\u001b[0m\u001b[1;33m.\u001b[0m\u001b[0mget\u001b[0m\u001b[1;33m(\u001b[0m\u001b[1;34m\"Error\"\u001b[0m\u001b[1;33m,\u001b[0m \u001b[1;33m{\u001b[0m\u001b[1;33m}\u001b[0m\u001b[1;33m)\u001b[0m\u001b[1;33m.\u001b[0m\u001b[0mget\u001b[0m\u001b[1;33m(\u001b[0m\u001b[1;34m\"Code\"\u001b[0m\u001b[1;33m)\u001b[0m\u001b[1;33m\u001b[0m\u001b[1;33m\u001b[0m\u001b[0m\n\u001b[0;32m    660\u001b[0m             \u001b[0merror_class\u001b[0m \u001b[1;33m=\u001b[0m \u001b[0mself\u001b[0m\u001b[1;33m.\u001b[0m\u001b[0mexceptions\u001b[0m\u001b[1;33m.\u001b[0m\u001b[0mfrom_code\u001b[0m\u001b[1;33m(\u001b[0m\u001b[0merror_code\u001b[0m\u001b[1;33m)\u001b[0m\u001b[1;33m\u001b[0m\u001b[1;33m\u001b[0m\u001b[0m\n\u001b[1;32m--> 661\u001b[1;33m             \u001b[1;32mraise\u001b[0m \u001b[0merror_class\u001b[0m\u001b[1;33m(\u001b[0m\u001b[0mparsed_response\u001b[0m\u001b[1;33m,\u001b[0m \u001b[0moperation_name\u001b[0m\u001b[1;33m)\u001b[0m\u001b[1;33m\u001b[0m\u001b[1;33m\u001b[0m\u001b[0m\n\u001b[0m\u001b[0;32m    662\u001b[0m         \u001b[1;32melse\u001b[0m\u001b[1;33m:\u001b[0m\u001b[1;33m\u001b[0m\u001b[1;33m\u001b[0m\u001b[0m\n\u001b[0;32m    663\u001b[0m             \u001b[1;32mreturn\u001b[0m \u001b[0mparsed_response\u001b[0m\u001b[1;33m\u001b[0m\u001b[1;33m\u001b[0m\u001b[0m\n",
      "\u001b[1;31mAlreadyExistsException\u001b[0m: An error occurred (AlreadyExistsException) when calling the CreateStack operation: Stack [liveStreaming] already exists"
     ]
    }
   ],
   "source": [
    "client.create_stack(\n",
    "    StackName=StackName,\n",
    "    TemplateBody=open('live-streaming-on-aws-with-mediastore.template', 'r').read(),\n",
    "    # If you don't have a template file in the folder then comment the line above and use the line below \n",
    "    #TemplateURL='https://s3.amazonaws.com/solutions-reference/live-streaming-on-aws-with-mediastore/latest/live-streaming-on-aws-with-mediastore.template',\n",
    "    Parameters=[\n",
    "        {\n",
    "            'ParameterKey': 'InputType',\n",
    "            'ParameterValue': 'RTMP_PUSH',\n",
    "        },\n",
    "        {\n",
    "            'ParameterKey': 'InputCIDR',\n",
    "            'ParameterValue': '0.0.0.0/0',\n",
    "        }\n",
    "    ],\n",
    "    TimeoutInMinutes=10,\n",
    "    Capabilities=[\n",
    "        'CAPABILITY_IAM',\n",
    "    ],\n",
    ")"
   ]
  },
  {
   "cell_type": "code",
   "execution_count": 4,
   "metadata": {},
   "outputs": [
    {
     "name": "stdout",
     "output_type": "stream",
     "text": [
      "CloudFormation is creating the streaming pipeline, please wait...\n",
      "CloudFormation is creating the streaming pipeline, please wait...\n",
      "CloudFormation is creating the streaming pipeline, please wait...\n",
      "CloudFormation is creating the streaming pipeline, please wait...\n",
      "CloudFormation is creating the streaming pipeline, please wait...\n",
      "CloudFormation is creating the streaming pipeline, please wait...\n",
      "CloudFormation is creating the streaming pipeline, please wait...\n",
      "CloudFormation is creating the streaming pipeline, please wait...\n",
      "CloudFormation is creating the streaming pipeline, please wait...\n",
      "CloudFormation is creating the streaming pipeline, please wait...\n",
      "CloudFormation is creating the streaming pipeline, please wait...\n",
      "CloudFormation is creating the streaming pipeline, please wait...\n",
      "CloudFormation is creating the streaming pipeline, please wait...\n",
      "CloudFormation is creating the streaming pipeline, please wait...\n",
      "CloudFormation is creating the streaming pipeline, please wait...\n",
      "CloudFormation is creating the streaming pipeline, please wait...\n",
      "CloudFormation is creating the streaming pipeline, please wait...\n",
      "CloudFormation is creating the streaming pipeline, please wait...\n",
      "CloudFormation is creating the streaming pipeline, please wait...\n",
      "CloudFormation is creating the streaming pipeline, please wait...\n",
      "CloudFormation is creating the streaming pipeline, please wait...\n",
      "CloudFormation is creating the streaming pipeline, please wait...\n",
      "CloudFormation is creating the streaming pipeline, please wait...\n",
      "CloudFormation is creating the streaming pipeline, please wait...\n",
      "CloudFormation is creating the streaming pipeline, please wait...\n",
      "CloudFormation is creating the streaming pipeline, please wait...\n",
      "CloudFormation is creating the streaming pipeline, please wait...\n",
      "CloudFormation is creating the streaming pipeline, please wait...\n",
      "CloudFormation is creating the streaming pipeline, please wait...\n",
      "CloudFormation is creating the streaming pipeline, please wait...\n",
      "Streaming pipeline created successfully\n",
      "m3u8 url that needs to be shown to the audiences:  https://d1nkxrgq1tw5m8.cloudfront.net/stream/index.m3u8\n",
      "Endpoint for live-streamer to input in OBS (OBS URL):  rtmp://52.20.194.248:1935/liveStreaming\n",
      "OBS stream key:  stream\n"
     ]
    }
   ],
   "source": [
    "import boto3\n",
    "import time\n",
    "client = boto3.client('cloudformation')\n",
    "StackName = 'liveStreaming' # This one can be the account name of the streamer\n",
    "client.create_stack(\n",
    "    StackName=StackName,\n",
    "    TemplateBody=open('live-streaming-on-aws-with-mediastore.template', 'r').read(),\n",
    "    # If you don't have a template file in the folder then comment the line above and use the line below \n",
    "    #TemplateURL='https://s3.amazonaws.com/solutions-reference/live-streaming-on-aws-with-mediastore/latest/live-streaming-on-aws-with-mediastore.template',\n",
    "    Parameters=[\n",
    "        {\n",
    "            'ParameterKey': 'InputType',\n",
    "            'ParameterValue': 'RTMP_PUSH',\n",
    "        },\n",
    "        {\n",
    "            'ParameterKey': 'InputCIDR',\n",
    "            'ParameterValue': '0.0.0.0/0',\n",
    "        }\n",
    "    ],\n",
    "    TimeoutInMinutes=10,\n",
    "    Capabilities=[\n",
    "        'CAPABILITY_IAM',\n",
    "    ],\n",
    ")\n",
    "\n",
    "while client.describe_stacks(StackName=StackName)['Stacks'][0]['StackStatus'] != 'CREATE_COMPLETE':\n",
    "    print('CloudFormation is creating the streaming pipeline, please wait...')\n",
    "    time.sleep(10)\n",
    "    \n",
    "print('Streaming pipeline created successfully')\n",
    "stack_detail = client.describe_stacks(StackName=StackName)\n",
    "m3u8_url = stack_detail['Stacks'][0]['Outputs'][4]['OutputValue'] # m3u8 file that needs to be shown to the audiences\n",
    "OBS_url = stack_detail['Stacks'][0]['Outputs'][2]['OutputValue'][:-7] # endpoint for live-streamer to input in OBS\n",
    "OBS_stream_key = 'stream'\n",
    "print('m3u8 url that needs to be shown to the audiences: ', m3u8_url)\n",
    "print('Endpoint for live-streamer to input in OBS (OBS URL): ', OBS_url)\n",
    "print('OBS stream key: ', OBS_stream_key)"
   ]
  },
  {
   "cell_type": "markdown",
   "metadata": {},
   "source": [
    "Remember to delete it if you don't need it anymore "
   ]
  },
  {
   "cell_type": "code",
   "execution_count": 5,
   "metadata": {},
   "outputs": [
    {
     "data": {
      "text/plain": [
       "{'ResponseMetadata': {'HTTPHeaders': {'content-length': '212',\n",
       "   'content-type': 'text/xml',\n",
       "   'date': 'Thu, 05 Nov 2020 00:40:30 GMT',\n",
       "   'x-amzn-requestid': '5b5b3007-18c7-495e-acd1-798754d2ee77'},\n",
       "  'HTTPStatusCode': 200,\n",
       "  'RequestId': '5b5b3007-18c7-495e-acd1-798754d2ee77',\n",
       "  'RetryAttempts': 0}}"
      ]
     },
     "execution_count": 5,
     "metadata": {},
     "output_type": "execute_result"
    }
   ],
   "source": [
    "client.delete_stack(StackName=StackName)"
   ]
  },
  {
   "cell_type": "markdown",
   "metadata": {},
   "source": [
    "Just something that I was testing"
   ]
  },
  {
   "cell_type": "code",
   "execution_count": 1,
   "metadata": {},
   "outputs": [],
   "source": [
    "import boto3"
   ]
  },
  {
   "cell_type": "code",
   "execution_count": 2,
   "metadata": {},
   "outputs": [],
   "source": [
    "client = boto3.client('cloudformation')"
   ]
  },
  {
   "cell_type": "code",
   "execution_count": 6,
   "metadata": {},
   "outputs": [],
   "source": [
    "response = client.create_stack(\n",
    "    StackName='liveStreaming',\n",
    "    TemplateBody=open('live-streaming-on-aws-with-mediastore.template', 'r').read(),\n",
    "    # If you don't have a template file in the folder then comment the line above and use the line below \n",
    "    #TemplateURL='https://s3.amazonaws.com/solutions-reference/live-streaming-on-aws-with-mediastore/latest/live-streaming-on-aws-with-mediastore.template',\n",
    "    Parameters=[\n",
    "        {\n",
    "            'ParameterKey': 'InputType',\n",
    "            'ParameterValue': 'RTMP_PUSH',\n",
    "        },\n",
    "        {\n",
    "            'ParameterKey': 'InputCIDR',\n",
    "            'ParameterValue': '0.0.0.0/0',\n",
    "        }\n",
    "        #{\n",
    "        #    'ParameterKey': 'EncodingProfile',\n",
    "        #    'ParameterValue': 'SD-540p'#,\n",
    "            #'UsePreviousValue': True|False,\n",
    "            #'ResolvedValue': 'string'\n",
    "        #},\n",
    "    ],\n",
    "    #DisableRollback=True|False,\n",
    "    #RollbackConfiguration={\n",
    "    #    'RollbackTriggers': [\n",
    "    #        {\n",
    "    #            'Arn': 'string',\n",
    "    #            'Type': 'string'\n",
    "    #        },\n",
    "    #    ],\n",
    "    #    'MonitoringTimeInMinutes': 123\n",
    "    #},\n",
    "    TimeoutInMinutes=10,\n",
    "    #NotificationARNs=[\n",
    "    #    'string',\n",
    "    #],\n",
    "    Capabilities=[\n",
    "        'CAPABILITY_IAM',\n",
    "    ],\n",
    "    #ResourceTypes=[\n",
    "    #    'AWS::*',\n",
    "    #],\n",
    "    #RoleARN='string',\n",
    "    #OnFailure='DO_NOTHING'|'ROLLBACK'|'DELETE',\n",
    "    #StackPolicyBody='string',\n",
    "    #StackPolicyURL='string',\n",
    "    #Tags=[\n",
    "    #    {\n",
    "    #        'Key': 'string',\n",
    "    #        'Value': 'string'\n",
    "    #    },\n",
    "    #],\n",
    "    #ClientRequestToken='string',\n",
    "    #EnableTerminationProtection=True|False\n",
    ")"
   ]
  },
  {
   "cell_type": "code",
   "execution_count": 7,
   "metadata": {},
   "outputs": [
    {
     "data": {
      "text/plain": [
       "{'ResponseMetadata': {'HTTPHeaders': {'content-length': '383',\n",
       "   'content-type': 'text/xml',\n",
       "   'date': 'Wed, 04 Nov 2020 23:17:00 GMT',\n",
       "   'x-amzn-requestid': 'a4743ba0-9e04-4132-b092-5a08edc73452'},\n",
       "  'HTTPStatusCode': 200,\n",
       "  'RequestId': 'a4743ba0-9e04-4132-b092-5a08edc73452',\n",
       "  'RetryAttempts': 0},\n",
       " 'StackId': 'arn:aws:cloudformation:us-east-1:517430561835:stack/liveStreaming/d731bf60-1ef3-11eb-af01-0afe492705d7'}"
      ]
     },
     "execution_count": 7,
     "metadata": {},
     "output_type": "execute_result"
    }
   ],
   "source": [
    "response"
   ]
  },
  {
   "cell_type": "code",
   "execution_count": 8,
   "metadata": {},
   "outputs": [
    {
     "data": {
      "text/plain": [
       "{'ResponseMetadata': {'HTTPHeaders': {'content-length': '2384',\n",
       "   'content-type': 'text/xml',\n",
       "   'date': 'Wed, 04 Nov 2020 23:17:39 GMT',\n",
       "   'vary': 'accept-encoding',\n",
       "   'x-amzn-requestid': 'a401618d-fdf9-454e-8673-1c7381de00b9'},\n",
       "  'HTTPStatusCode': 200,\n",
       "  'RequestId': 'a401618d-fdf9-454e-8673-1c7381de00b9',\n",
       "  'RetryAttempts': 0},\n",
       " 'Stacks': [{'Capabilities': ['CAPABILITY_IAM'],\n",
       "   'CreationTime': datetime.datetime(2020, 11, 4, 23, 17, 0, 249000, tzinfo=tzutc()),\n",
       "   'Description': '(SO0109) - live-streaming-on-aws-with-mediastore - v1.1.1',\n",
       "   'DisableRollback': False,\n",
       "   'DriftInformation': {'StackDriftStatus': 'NOT_CHECKED'},\n",
       "   'EnableTerminationProtection': False,\n",
       "   'NotificationARNs': [],\n",
       "   'Parameters': [{'ParameterKey': 'InputDeviceId', 'ParameterValue': ''},\n",
       "    {'ParameterKey': 'ChannelStart', 'ParameterValue': 'true'},\n",
       "    {'ParameterKey': 'InputType', 'ParameterValue': 'RTMP_PUSH'},\n",
       "    {'ParameterKey': 'InputCIDR', 'ParameterValue': '0.0.0.0/0'},\n",
       "    {'ParameterKey': 'PullUrl',\n",
       "     'ParameterValue': 'https://d15an60oaeed9r.cloudfront.net/live_stream_v2/sports_reel_with_markers.m3u8'},\n",
       "    {'ParameterKey': 'EncodingProfile', 'ParameterValue': 'HD-720p'},\n",
       "    {'ParameterKey': 'PullUser', 'ParameterValue': ''},\n",
       "    {'ParameterKey': 'PullPass', 'ParameterValue': '****'}],\n",
       "   'RollbackConfiguration': {},\n",
       "   'StackId': 'arn:aws:cloudformation:us-east-1:517430561835:stack/liveStreaming/d731bf60-1ef3-11eb-af01-0afe492705d7',\n",
       "   'StackName': 'liveStreaming',\n",
       "   'StackStatus': 'CREATE_IN_PROGRESS',\n",
       "   'Tags': [],\n",
       "   'TimeoutInMinutes': 10}]}"
      ]
     },
     "execution_count": 8,
     "metadata": {},
     "output_type": "execute_result"
    }
   ],
   "source": [
    "client.describe_stacks(StackName='liveStreaming')"
   ]
  },
  {
   "cell_type": "code",
   "execution_count": 9,
   "metadata": {},
   "outputs": [
    {
     "data": {
      "text/plain": [
       "{'ResponseMetadata': {'HTTPHeaders': {'content-length': '3848',\n",
       "   'content-type': 'text/xml',\n",
       "   'date': 'Wed, 04 Nov 2020 23:24:36 GMT',\n",
       "   'vary': 'accept-encoding',\n",
       "   'x-amzn-requestid': 'a86f7539-6b78-4eba-aeae-0eb82a854876'},\n",
       "  'HTTPStatusCode': 200,\n",
       "  'RequestId': 'a86f7539-6b78-4eba-aeae-0eb82a854876',\n",
       "  'RetryAttempts': 0},\n",
       " 'Stacks': [{'Capabilities': ['CAPABILITY_IAM'],\n",
       "   'CreationTime': datetime.datetime(2020, 11, 4, 23, 17, 0, 249000, tzinfo=tzutc()),\n",
       "   'Description': '(SO0109) - live-streaming-on-aws-with-mediastore - v1.1.1',\n",
       "   'DisableRollback': False,\n",
       "   'DriftInformation': {'StackDriftStatus': 'NOT_CHECKED'},\n",
       "   'EnableTerminationProtection': False,\n",
       "   'NotificationARNs': [],\n",
       "   'Outputs': [{'Description': 'MediaLive Channel',\n",
       "     'OutputKey': 'MediaLiveConsole',\n",
       "     'OutputValue': 'https://us-east-1.console.aws.amazon.com/medialive/home?region=us-east-1#!/channels'},\n",
       "    {'Description': 'MediaStore Container',\n",
       "     'OutputKey': 'MediaStoreConsole',\n",
       "     'OutputValue': 'https://us-east-1.console.aws.amazon.com/mediastore/home/containers/liveStreaming'},\n",
       "    {'Description': 'The MediaLive Input ingress endpoint for push input types',\n",
       "     'OutputKey': 'MediaLivePushEndpoint',\n",
       "     'OutputValue': 'rtmp://18.204.185.171:1935/liveStreaming/stream'},\n",
       "    {'Description': 'CloudWatch Dashboard for MediaStore Ingress and Egress',\n",
       "     'OutputKey': 'CloudWatchDashboard',\n",
       "     'OutputValue': 'https://us-east-1.console.aws.amazon.com/cloudwatch/home?region=us-east-1#dashboards:name=liveStreaming-MediaStore-Live-Streaming'},\n",
       "    {'Description': 'CloudFront Live Stream URL',\n",
       "     'OutputKey': 'LiveStreamUrl',\n",
       "     'OutputValue': 'https://d384mltfeeni5e.cloudfront.net/stream/index.m3u8'}],\n",
       "   'Parameters': [{'ParameterKey': 'InputDeviceId', 'ParameterValue': ''},\n",
       "    {'ParameterKey': 'ChannelStart', 'ParameterValue': 'true'},\n",
       "    {'ParameterKey': 'InputType', 'ParameterValue': 'RTMP_PUSH'},\n",
       "    {'ParameterKey': 'InputCIDR', 'ParameterValue': '0.0.0.0/0'},\n",
       "    {'ParameterKey': 'PullUrl',\n",
       "     'ParameterValue': 'https://d15an60oaeed9r.cloudfront.net/live_stream_v2/sports_reel_with_markers.m3u8'},\n",
       "    {'ParameterKey': 'EncodingProfile', 'ParameterValue': 'HD-720p'},\n",
       "    {'ParameterKey': 'PullUser', 'ParameterValue': ''},\n",
       "    {'ParameterKey': 'PullPass', 'ParameterValue': '****'}],\n",
       "   'RollbackConfiguration': {},\n",
       "   'StackId': 'arn:aws:cloudformation:us-east-1:517430561835:stack/liveStreaming/d731bf60-1ef3-11eb-af01-0afe492705d7',\n",
       "   'StackName': 'liveStreaming',\n",
       "   'StackStatus': 'CREATE_COMPLETE',\n",
       "   'Tags': [],\n",
       "   'TimeoutInMinutes': 10}]}"
      ]
     },
     "execution_count": 9,
     "metadata": {},
     "output_type": "execute_result"
    }
   ],
   "source": [
    "client.describe_stacks(StackName='liveStreaming')"
   ]
  },
  {
   "cell_type": "code",
   "execution_count": 19,
   "metadata": {},
   "outputs": [],
   "source": [
    "stack_detail = client.describe_stacks(StackName='liveStreaming')\n",
    "m3u8_url = stack_detail['Stacks'][0]['Outputs'][4]['OutputValue'] # m3u8 file that need to be shown to the audiences\n",
    "OBS_url = stack_detail['Stacks'][0]['Outputs'][2]['OutputValue'][:-7] # endpoint for live-streamer to input in OBS\n",
    "OBS_stream_key = 'stream'"
   ]
  },
  {
   "cell_type": "code",
   "execution_count": 20,
   "metadata": {},
   "outputs": [
    {
     "name": "stdout",
     "output_type": "stream",
     "text": [
      "https://d384mltfeeni5e.cloudfront.net/stream/index.m3u8\n",
      "rtmp://18.204.185.171:1935/liveStreaming\n",
      "stream\n"
     ]
    }
   ],
   "source": [
    "print(m3u8_url)\n",
    "print(OBS_url)\n",
    "print(OBS_stream_key)"
   ]
  },
  {
   "cell_type": "markdown",
   "metadata": {},
   "source": [
    "Using the name of the stack to find the channel id in MediaLive, and use the retrieved id to turn on/turn off the channel to save money"
   ]
  },
  {
   "cell_type": "code",
   "execution_count": 11,
   "metadata": {},
   "outputs": [],
   "source": [
    "client2 = boto3.client('medialive')"
   ]
  },
  {
   "cell_type": "code",
   "execution_count": 12,
   "metadata": {},
   "outputs": [
    {
     "data": {
      "text/plain": [
       "{'Channels': [{'Arn': 'arn:aws:medialive:us-east-1:517430561835:channel:9463715',\n",
       "   'ChannelClass': 'SINGLE_PIPELINE',\n",
       "   'Destinations': [{'Id': 'destination1',\n",
       "     'MediaPackageSettings': [],\n",
       "     'Settings': [{'Url': 'mediastoressl://mozl7oersltyqt.data.mediastore.us-east-1.amazonaws.com/stream/index'}]}],\n",
       "   'EgressEndpoints': [{'SourceIp': '3.219.106.196'}],\n",
       "   'Id': '9463715',\n",
       "   'InputAttachments': [{'InputAttachmentName': '',\n",
       "     'InputId': '372120',\n",
       "     'InputSettings': {'AudioSelectors': [],\n",
       "      'CaptionSelectors': [],\n",
       "      'SourceEndBehavior': 'LOOP'}}],\n",
       "   'InputSpecification': {'Codec': 'AVC',\n",
       "    'MaximumBitrate': 'MAX_10_MBPS',\n",
       "    'Resolution': 'HD'},\n",
       "   'Name': 'liveStreaming',\n",
       "   'PipelinesRunningCount': 0,\n",
       "   'RoleArn': 'arn:aws:iam::517430561835:role/liveStreaming-MediaLiveRole-3JXWDR5JNHXB',\n",
       "   'State': 'IDLE',\n",
       "   'Tags': {'Solution': 'SO0013'}}],\n",
       " 'ResponseMetadata': {'HTTPHeaders': {'access-control-allow-origin': '*',\n",
       "   'connection': 'keep-alive',\n",
       "   'content-length': '1055',\n",
       "   'content-type': 'application/json',\n",
       "   'date': 'Fri, 30 Oct 2020 00:16:30 GMT',\n",
       "   'via': '1.1 ca4d42b1568d18e9383473e6c150f2e3.cloudfront.net (CloudFront)',\n",
       "   'x-amz-apigw-id': 'VMs2sHORIAMFb9g=',\n",
       "   'x-amz-cf-id': 'lVmj6bwvSsO0ru2Tf1SgOWF3p4yACXJrzHYBSDdDjozHNAexKQbxRw==',\n",
       "   'x-amz-cf-pop': 'EWR52-C2',\n",
       "   'x-amzn-requestid': '3b201ad4-1e1b-4a69-8080-8c1efc21e9a7',\n",
       "   'x-amzn-trace-id': 'Root=1-5f9b5b5d-7e66009916f9910d4b010d7f;Sampled=0',\n",
       "   'x-cache': 'Miss from cloudfront'},\n",
       "  'HTTPStatusCode': 200,\n",
       "  'RequestId': '3b201ad4-1e1b-4a69-8080-8c1efc21e9a7',\n",
       "  'RetryAttempts': 0}}"
      ]
     },
     "execution_count": 12,
     "metadata": {},
     "output_type": "execute_result"
    }
   ],
   "source": [
    "client2.list_channels()"
   ]
  },
  {
   "cell_type": "code",
   "execution_count": null,
   "metadata": {},
   "outputs": [],
   "source": []
  }
 ],
 "metadata": {
  "kernelspec": {
   "display_name": "Python 3",
   "language": "python",
   "name": "python3"
  },
  "language_info": {
   "codemirror_mode": {
    "name": "ipython",
    "version": 3
   },
   "file_extension": ".py",
   "mimetype": "text/x-python",
   "name": "python",
   "nbconvert_exporter": "python",
   "pygments_lexer": "ipython3",
   "version": "3.7.3"
  }
 },
 "nbformat": 4,
 "nbformat_minor": 2
}
